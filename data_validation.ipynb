{
  "cells": [
    {
      "cell_type": "code",
      "execution_count": null,
      "metadata": {
        "colab": {
          "base_uri": "https://localhost:8080/",
          "height": 1000
        },
        "id": "EB--mC31wgc7",
        "outputId": "f5dd2324-6880-402d-dfe3-b588dc498162"
      },
      "outputs": [],
      "source": [
        "pip install tensorflow-data-validation"
      ]
    },
    {
      "cell_type": "code",
      "execution_count": null,
      "metadata": {
        "id": "v7y46gjwwdai"
      },
      "outputs": [],
      "source": [
        "import tensorflow_data_validation as tfdv\n",
        "import tensorflow as tf"
      ]
    },
    {
      "cell_type": "code",
      "execution_count": null,
      "metadata": {
        "id": "rqT9juGE0yCg"
      },
      "outputs": [],
      "source": [
        "TRAIN_DATA = '/content/sample_data/data/titanic_train.csv'\n",
        "TEST_DATA = '/content/sample_data/data/titanic_test.csv'\n",
        "ANOMALOUS_DATA = '/content/sample_data/data/titanic_test_anomalies.csv'"
      ]
    },
    {
      "cell_type": "code",
      "execution_count": null,
      "metadata": {
        "colab": {
          "base_uri": "https://localhost:8080/",
          "height": 1000
        },
        "id": "WJB6OvKRyxH5",
        "outputId": "63f605b2-91a9-4041-b13f-ee332f33e270"
      },
      "outputs": [],
      "source": [
        "# Generate statistics for training data\n",
        "train_stats=tfdv.generate_statistics_from_csv(TRAIN_DATA)\n",
        "tfdv.visualize_statistics(train_stats)"
      ]
    },
    {
      "cell_type": "code",
      "execution_count": null,
      "metadata": {
        "colab": {
          "base_uri": "https://localhost:8080/",
          "height": 740
        },
        "id": "9HCaJXcvw8Li",
        "outputId": "ba9761be-1e6e-485a-d708-eb1a5c71504c"
      },
      "outputs": [],
      "source": [
        "# Infer schema from training data\n",
        "schema=tfdv.infer_schema(statistics=train_stats)\n",
        "tfdv.display_schema(schema=schema)"
      ]
    },
    {
      "cell_type": "code",
      "execution_count": null,
      "metadata": {
        "colab": {
          "base_uri": "https://localhost:8080/",
          "height": 1000
        },
        "id": "ctRoM03z2lI3",
        "outputId": "efaea140-2dbc-4ed0-aa83-aa66c1c3a7f8"
      },
      "outputs": [],
      "source": [
        "# Generate statistics for evaluation data\n",
        "\n",
        "eval_stats=tfdv.generate_statistics_from_csv(ANOMALOUS_DATA)\n",
        "\n",
        "tfdv.visualize_statistics(lhs_statistics = train_stats, rhs_statistics = eval_stats,\n",
        "                          lhs_name = \"Training Data\", rhs_name = \"Evaluation Data\")"
      ]
    },
    {
      "cell_type": "code",
      "execution_count": null,
      "metadata": {
        "colab": {
          "base_uri": "https://localhost:8080/",
          "height": 481
        },
        "id": "ab88And18rfi",
        "outputId": "4725fd44-d448-4f56-858f-3618b86b841c"
      },
      "outputs": [],
      "source": [
        "# Identifying Anomalies\n",
        "anomalies=tfdv.validate_statistics(statistics=eval_stats, schema=schema)\n",
        "tfdv.display_anomalies(anomalies)"
      ]
    },
    {
      "cell_type": "code",
      "execution_count": null,
      "metadata": {
        "colab": {
          "base_uri": "https://localhost:8080/",
          "height": 275
        },
        "id": "z8-sNVC3AqSZ",
        "outputId": "0afd7226-c067-49b7-8f7b-4c5026f882e9"
      },
      "outputs": [],
      "source": [
        "# Fixing Anomalies: Either change the evaluation data (manually) or modify schema\n",
        "# Modifying Schema with the changes that are acceptable\n",
        "\n",
        "# Adding new value for 'Destination'\n",
        "destination_domain=tfdv.get_domain(schema, 'Destination')\n",
        "destination_domain.value.append('Anomaly')\n",
        "\n",
        "anomalies=tfdv.validate_statistics(statistics=eval_stats, schema=schema)\n",
        "tfdv.display_anomalies(anomalies)\n"
      ]
    },
    {
      "cell_type": "code",
      "execution_count": null,
      "metadata": {
        "colab": {
          "base_uri": "https://localhost:8080/",
          "height": 161
        },
        "id": "7e1d-hQJA7-1",
        "outputId": "78dd0a66-810d-4597-f692-4ab9dd76c004"
      },
      "outputs": [],
      "source": [
        "# Adding data in CAPS to domain for VIP and CryoSleep\n",
        "\n",
        "vip_domain=tfdv.get_domain(schema, 'VIP')\n",
        "vip_domain.value.extend(['TRUE','FALSE'])\n",
        "\n",
        "# Setting domain of one feature to another\n",
        "tfdv.set_domain(schema, 'CryoSleep', vip_domain)\n",
        "\n",
        "anomalies=tfdv.validate_statistics(statistics=eval_stats, schema=schema)\n",
        "tfdv.display_anomalies(anomalies)"
      ]
    },
    {
      "cell_type": "code",
      "execution_count": null,
      "metadata": {
        "colab": {
          "base_uri": "https://localhost:8080/",
          "height": 143
        },
        "id": "YQpUFL0fLvNo",
        "outputId": "ce4bb1aa-6404-4141-8111-0c6762b3e2ad"
      },
      "outputs": [],
      "source": [
        "# INT can be safely converted to FLOAT. So we can safely ignore it and ask TFDV to use schema\n",
        "\n",
        "options = tfdv.StatsOptions(schema=schema, infer_type_from_schema=True)\n",
        "eval_stats=tfdv.generate_statistics_from_csv(ANOMALOUS_DATA, stats_options=options)\n",
        "\n",
        "anomalies=tfdv.validate_statistics(statistics=eval_stats, schema=schema)\n",
        "tfdv.display_anomalies(anomalies)"
      ]
    },
    {
      "cell_type": "code",
      "execution_count": null,
      "metadata": {
        "colab": {
          "base_uri": "https://localhost:8080/",
          "height": 112
        },
        "id": "NNxoDr7FfDwL",
        "outputId": "75142378-8c78-4ca3-c2c3-5d3f7f020345"
      },
      "outputs": [],
      "source": [
        "# Transported is the class label and will not be available in Evaluation data.\n",
        "# To indicate that we set two environments; Training and Serving\n",
        "\n",
        "schema.default_environment.append('Training')\n",
        "schema.default_environment.append('Serving')\n",
        "\n",
        "tfdv.get_feature(schema, 'Transported').not_in_environment.append('Serving')\n",
        "\n",
        "serving_anomalies_with_environment=tfdv.validate_statistics(\n",
        "    statistics=eval_stats, schema=schema, environment='Serving')\n",
        "\n",
        "tfdv.display_anomalies(serving_anomalies_with_environment)"
      ]
    },
    {
      "cell_type": "code",
      "execution_count": null,
      "metadata": {
        "id": "NeCQDANfhBg1"
      },
      "outputs": [],
      "source": [
        "# We are good here. Room Service is the missing column in Evaluation data. This\n",
        "# cannot be fixed. Hence we need to come up with manual techniques to handle\n",
        "# this issue"
      ]
    },
    {
      "cell_type": "code",
      "execution_count": null,
      "metadata": {
        "id": "5tOSQMHhhei-"
      },
      "outputs": [],
      "source": [
        "# Checking for Drifts using L-Infinity Distance"
      ]
    },
    {
      "cell_type": "code",
      "execution_count": null,
      "metadata": {
        "id": "Z03pv8pJn_nI"
      },
      "outputs": [],
      "source": [
        "serving_stats = tfdv.generate_statistics_from_csv(TEST_DATA)"
      ]
    },
    {
      "cell_type": "code",
      "execution_count": null,
      "metadata": {
        "colab": {
          "base_uri": "https://localhost:8080/",
          "height": 199
        },
        "id": "OfzBO-pQmWZX",
        "outputId": "a120653f-5675-4dee-c6f1-63a4cae44c25"
      },
      "outputs": [],
      "source": [
        "# Skew Comparator\n",
        "spa_analyze=tfdv.get_feature(schema, 'Spa')\n",
        "spa_analyze.skew_comparator.infinity_norm.threshold=0.01\n",
        "\n",
        "# Drift Comparator\n",
        "CryoSleep_analyze=tfdv.get_feature(schema, 'CryoSleep')\n",
        "CryoSleep_analyze.drift_comparator.infinity_norm.threshold=0.01\n",
        "\n",
        "skew_anomalies=tfdv.validate_statistics(statistics=train_stats, schema=schema,\n",
        "                                        previous_statistics=eval_stats,\n",
        "                                        serving_statistics=serving_stats)\n",
        "tfdv.display_anomalies(skew_anomalies)"
      ]
    },
    {
      "cell_type": "code",
      "execution_count": null,
      "metadata": {
        "id": "TTR_MMzvhi5n"
      },
      "outputs": [],
      "source": [
        "# Requires retraining, as we observe drifts"
      ]
    },
    {
      "cell_type": "code",
      "execution_count": null,
      "metadata": {
        "id": "8AWUAesnpc9B"
      },
      "outputs": [],
      "source": [
        "from tensorflow.python.lib.io import file_io\n",
        "from google.protobuf import text_format\n",
        "\n",
        "file_io.recursive_create_dir('schema')\n",
        "schema_file = os.path.join('schema', 'schema.pbtxt')\n",
        "tfdv.write_schema_text(schema, schema_file)"
      ]
    },
    {
      "cell_type": "code",
      "execution_count": null,
      "metadata": {
        "colab": {
          "base_uri": "https://localhost:8080/"
        },
        "collapsed": true,
        "id": "rcUiniI4q7av",
        "outputId": "f0bacc6f-4f78-4666-ce6a-e4406c1259e0"
      },
      "outputs": [],
      "source": [
        "!cat {schema_file}"
      ]
    },
    {
      "cell_type": "code",
      "execution_count": null,
      "metadata": {
        "colab": {
          "base_uri": "https://localhost:8080/"
        },
        "collapsed": true,
        "id": "oZnSVllcsAaH",
        "outputId": "957acd91-e7d4-44a5-ad6d-38545c9f301b"
      },
      "outputs": [],
      "source": [
        "loaded_schema= tfdv.load_schema_text(schema_file)\n",
        "loaded_schema"
      ]
    }
  ],
  "metadata": {
    "colab": {
      "provenance": []
    },
    "kernelspec": {
      "display_name": "tfx",
      "language": "python",
      "name": "python3"
    },
    "language_info": {
      "codemirror_mode": {
        "name": "ipython",
        "version": 3
      },
      "file_extension": ".py",
      "mimetype": "text/x-python",
      "name": "python",
      "nbconvert_exporter": "python",
      "pygments_lexer": "ipython3",
      "version": "3.9.19"
    }
  },
  "nbformat": 4,
  "nbformat_minor": 0
}
